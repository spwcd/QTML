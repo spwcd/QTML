{
 "cells": [
  {
   "cell_type": "markdown",
   "metadata": {},
   "source": [
    "# Import Library ที่ต้องใช้"
   ]
  },
  {
   "cell_type": "code",
   "execution_count": 1,
   "metadata": {
    "collapsed": true
   },
   "outputs": [],
   "source": [
    "import numpy as np\n",
    "from pandas_datareader import data\n",
    "import matplotlib.pyplot as plt\n",
    "import seaborn as sns"
   ]
  },
  {
   "cell_type": "markdown",
   "metadata": {},
   "source": [
    "# สร้างฟังก์ชั่นสำหรับกลยุทธย์การเทรด"
   ]
  },
  {
   "cell_type": "code",
   "execution_count": 2,
   "metadata": {
    "collapsed": true
   },
   "outputs": [],
   "source": [
    "def macrossover(stock, shortMA, longMA, start_date, end_date):\n",
    "    #โหลดข้อมูลจาก Yahoo Finance\n",
    "    stock = data.DataReader(ticker, 'yahoo', start=start_date, end=end_date)\n",
    "    #สร้าง Moving Average ทั้งแบบ Short และ Long\n",
    "    stock['shortMA'] = np.round(stock['Close'].rolling(window=shortMA).mean(), 4)\n",
    "    stock['longMA'] = np.round(stock['Close'].rolling(window=longMA).mean(), 4)\n",
    "    #ลบฟิลที่มีค่า NA ออกไป\n",
    "    stock.dropna(inplace=True)\n",
    "    #สร้างสัญญาณการซื้อขาย ถ้าเป็นจริง\n",
    "    stock['position'] = np.where(stock['shortMA'] > stock['longMA'], 1, 0)\n",
    "    #คำนวณ Rate of Change รายวัน\n",
    "    stock['rets'] = np.log(stock['Close'] / stock['Close'].shift(1))\n",
    "    #คำนวณผลลัพธ์จากการซื้อขาย\n",
    "    stock['strategy'] = stock['position'].shift(1) * stock['rets']\n",
    "    #คำนวณ Sharpe Ratio และ Return ของผลการเทรดเพื่อส่งผลลัพธ์ออกจาก Function\n",
    "    sharpe = np.sqrt(252) * (stock['strategy'].mean() / stock['strategy'].std())\n",
    "    rets = stock['strategy'].cumsum()[-1]\n",
    "    \n",
    "    return rets, sharpe"
   ]
  },
  {
   "cell_type": "markdown",
   "metadata": {},
   "source": [
    "# กำหนด พารามิเตอร์สำหรับ Moving Average ทั้ง Short และ Long"
   ]
  },
  {
   "cell_type": "code",
   "execution_count": 3,
   "metadata": {
    "collapsed": true
   },
   "outputs": [],
   "source": [
    "short = np.linspace(10,30,2,dtype=int)\n",
    "long = np.linspace(40,60,2,dtype=int)"
   ]
  },
  {
   "cell_type": "code",
   "execution_count": null,
   "metadata": {
    "collapsed": true
   },
   "outputs": [],
   "source": []
  },
  {
   "cell_type": "code",
   "execution_count": null,
   "metadata": {
    "collapsed": true
   },
   "outputs": [],
   "source": [
    "profit = np.zeros((len(short),len(long)))\n",
    "sharperatio = np.zeros((len(short),len(long)))"
   ]
  }
 ],
 "metadata": {
  "kernelspec": {
   "display_name": "Python 3",
   "language": "python",
   "name": "python3"
  },
  "language_info": {
   "codemirror_mode": {
    "name": "ipython",
    "version": 3
   },
   "file_extension": ".py",
   "mimetype": "text/x-python",
   "name": "python",
   "nbconvert_exporter": "python",
   "pygments_lexer": "ipython3",
   "version": "3.5.2"
  }
 },
 "nbformat": 4,
 "nbformat_minor": 2
}
